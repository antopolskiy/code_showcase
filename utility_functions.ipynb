{
 "cells": [
  {
   "cell_type": "code",
   "execution_count": null,
   "metadata": {
    "collapsed": true
   },
   "outputs": [],
   "source": [
    "# A collection of utility functions in no particular order\n",
    "# Version : 1.0\n",
    "# Date : September 14, 2016\n",
    "# Author: Sergey Antopolsky"
   ]
  },
  {
   "cell_type": "code",
   "execution_count": 1,
   "metadata": {
    "collapsed": true
   },
   "outputs": [],
   "source": [
    "import numpy as np\n",
    "import pandas as pd"
   ]
  },
  {
   "cell_type": "code",
   "execution_count": null,
   "metadata": {
    "collapsed": true
   },
   "outputs": [],
   "source": [
    "def new_line_string(s,limit=20):\n",
    "    \"\"\"\n",
    "    Takes a long string and attempts to make new lines between words. If\n",
    "    cannot get between words, break the word and puts a \"-\" sign in the end\n",
    "    of the line. Useful for placing compact notes on figures.\n",
    "    \n",
    "    20160914 by Sergey Antopolskiy\n",
    "    \"\"\"\n",
    "    if type(s) == str:\n",
    "        changed_s = ''\n",
    "        while len(s)>limit:\n",
    "            if s[limit-1]==' ':\n",
    "                changed_s += s[:limit] + '\\n'\n",
    "                s = s[limit:]\n",
    "            elif s[limit]==' ':\n",
    "                changed_s += s[:limit] + '\\n'\n",
    "                s = s[limit+1:]\n",
    "            else:\n",
    "                changed_s += s[:limit] + '-\\n'\n",
    "                s = s[limit:]\n",
    "        changed_s += s\n",
    "        return changed_s\n",
    "    else:\n",
    "        return ''"
   ]
  },
  {
   "cell_type": "code",
   "execution_count": null,
   "metadata": {
    "collapsed": true
   },
   "outputs": [],
   "source": [
    "def find_stim_without_another_before_it(motor_trace_data,trigs,options,threshold=1000):\n",
    "    \"\"\"\n",
    "    Returns index of the trigger which is associates with a stimulus which\n",
    "    doesn't have any motor movement right before it appeared. Helpful for \n",
    "    plotting example of a stimulus i the PSTH figure.\n",
    "    \n",
    "    20160915 by Sergey Antopolskiy\n",
    "    \"\"\"\n",
    "    motor_fs = motor_trace_data['fs']\n",
    "    for (i,trig) in enumerate(trigs):\n",
    "        before_stim_trace = motor_trace_data['data'][int((trigs.iloc[i]-options['before'])*motor_fs):\n",
    "                                       int((trigs.iloc[i])*motor_fs)]\n",
    "        if sum(np.abs(before_stim_trace))<threshold:\n",
    "            break\n",
    "    return i"
   ]
  },
  {
   "cell_type": "code",
   "execution_count": null,
   "metadata": {
    "collapsed": true
   },
   "outputs": [],
   "source": [
    "def sanity_check(x,value,direction='not_eq'):\n",
    "    \"\"\"\n",
    "    Raise an error if x!=value. If direction = 'eq', raises an error if x==value.\n",
    "    \n",
    "    20160927 by Sergey Antopolskiy\n",
    "    \"\"\"\n",
    "    if direction == 'eq':\n",
    "        if x == value:\n",
    "            raise\n",
    "    elif direction == 'not_eq':\n",
    "        if x != value:\n",
    "            raise\n",
    "    else:\n",
    "        print(\"Wrong direction parameter, did nothing.\")"
   ]
  },
  {
   "cell_type": "code",
   "execution_count": null,
   "metadata": {
    "collapsed": true
   },
   "outputs": [],
   "source": [
    "def prop_true(array, ax=0, return_len=0):\n",
    "    if return_len:\n",
    "        return np.sum(array,ax)/array.shape[ax], array.shape[ax]\n",
    "    else:\n",
    "        return np.sum(array,ax)/array.shape[ax]"
   ]
  },
  {
   "cell_type": "code",
   "execution_count": null,
   "metadata": {
    "collapsed": true
   },
   "outputs": [],
   "source": [
    "import numpy.random as npr\n",
    "\n",
    "def bootstrap(data, num_samples, statistic, alpha=0):\n",
    "    \"\"\"\n",
    "    Returns resampled values and if alpha is provided, estimates \n",
    "    two-tailed (1-alpha) confidence interval for statistic.\n",
    "    \n",
    "    Modified from: http://people.duke.edu/~ccc14/pcfb/analysis.html\n",
    "    \"\"\"\n",
    "    n = len(data)\n",
    "    idx = npr.randint(0, n, (num_samples, n))\n",
    "    samples = data[idx]\n",
    "    resampled_values = statistic(samples,1)\n",
    "    stat = np.sort(resampled_values)\n",
    "    if alpha != 0:\n",
    "        return (stat[int((alpha/2.0)*num_samples)],\n",
    "        stat[int((1-alpha/2.0)*num_samples)]), resampled_values\n",
    "    else:\n",
    "        return resampled_values\n",
    "        \n",
    "def bootstrap_compare(values_1, values_2, statistics, num_samples = 1000):\n",
    "    \"\"\"\n",
    "    Performs a comparison of resampled statistics between 2 vectors. Subtracts each resampled\n",
    "    values of second group from each of the first group and returns % of differences which are\n",
    "    below 0; it corresponds to p-value of resampling test.\n",
    "    \"\"\"\n",
    "    resampled_1 = bootstrap(values_1,num_samples,statistics)\n",
    "    resampled_2 = bootstrap(values_2,num_samples,statistics)\n",
    "    \n",
    "    stat = np.array([a-b for a in resampled_1 for b in resampled_2])\n",
    "    return sum(stat<0)/len(stat)"
   ]
  },
  {
   "cell_type": "code",
   "execution_count": null,
   "metadata": {
    "collapsed": true
   },
   "outputs": [],
   "source": [
    "def pandas_series_tuple_unpack(series,column_names):\n",
    "    \"\"\"\n",
    "    Converts a Series of tuples to DataFrame with single values.\n",
    "    \n",
    "    \"\"\"\n",
    "    return pd.DataFrame(series.tolist(), columns=column_names, index=series.index)"
   ]
  }
 ],
 "metadata": {
  "kernelspec": {
   "display_name": "Python 2",
   "language": "python",
   "name": "python2"
  },
  "language_info": {
   "codemirror_mode": {
    "name": "ipython",
    "version": 2
   },
   "file_extension": ".py",
   "mimetype": "text/x-python",
   "name": "python",
   "nbconvert_exporter": "python",
   "pygments_lexer": "ipython2",
   "version": "2.7.12"
  }
 },
 "nbformat": 4,
 "nbformat_minor": 0
}
